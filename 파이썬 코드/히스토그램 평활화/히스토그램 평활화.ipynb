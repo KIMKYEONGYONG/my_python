{
 "cells": [
  {
   "cell_type": "code",
   "execution_count": 2,
   "id": "b80b94a3",
   "metadata": {},
   "outputs": [],
   "source": [
    "import cv2\n",
    "\n",
    "# 그레이스케일 영상의 히스토그램 평활화\n",
    "src = cv2.imread('./img/Lenna.png', cv2.IMREAD_GRAYSCALE)\n",
    "\n",
    "if src is None:\n",
    "    print('image load failed!')\n",
    "    sys.exit()\n",
    "    \n",
    "dst = cv2.equalizeHist(src)\n",
    "\n",
    "cv2.imshow('src', src)\n",
    "cv2.imshow('dst', dst)\n",
    "cv2.waitKey()\n",
    "\n",
    "cv2.destroyAllWindows()"
   ]
  },
  {
   "cell_type": "code",
   "execution_count": 10,
   "id": "b45c9bd0",
   "metadata": {},
   "outputs": [
    {
     "ename": "IndexError",
     "evalue": "list assignment index out of range",
     "output_type": "error",
     "traceback": [
      "\u001b[1;31m---------------------------------------------------------------------------\u001b[0m",
      "\u001b[1;31mIndexError\u001b[0m                                Traceback (most recent call last)",
      "Cell \u001b[1;32mIn [10], line 37\u001b[0m\n\u001b[0;32m     34\u001b[0m histogram \u001b[38;5;241m=\u001b[39m []\n\u001b[0;32m     36\u001b[0m \u001b[38;5;28;01mfor\u001b[39;00m i \u001b[38;5;129;01min\u001b[39;00m \u001b[38;5;28mrange\u001b[39m(\u001b[38;5;241m256\u001b[39m):\n\u001b[1;32m---> 37\u001b[0m     histogram[i] \u001b[38;5;241m=\u001b[39m\u001b[38;5;241m0\u001b[39m;\n\u001b[0;32m     39\u001b[0m histogram\n",
      "\u001b[1;31mIndexError\u001b[0m: list assignment index out of range"
     ]
    }
   ],
   "source": [
    "import cv2\n",
    "import numpy as np\n",
    "\n",
    "img = cv2.imread('./img/Lenna.png')\n",
    "\n",
    "cv2.imshow('src', img)\n",
    "cv2.waitKey(0)\n",
    "cv2.destroyAllWindows()\n",
    "\n",
    "# RGB to Gray\n",
    "\n",
    "height = img.shape[0]\n",
    "width = img.shape[1]\n",
    "gray_image = np.zeros((height, width, 1), dtype=np.uint8)\n",
    "\n",
    "# 입력 이미지의 pixel 값 하나씩 불러서 변경\n",
    "for h in range(height):\n",
    "    for w in range(width):\n",
    "        b = img[h, w, 0].astype(np.float32) # RGB의 Blue 값 입력받기\n",
    "        g = img[h, w, 1].astype(np.float32) # RGB의 Green 값 입력받기\n",
    "        r = img[h, w, 2].astype(np.float32) # RGB의 Red 값 입력받기\n",
    "\n",
    "        gray = 0.114 * b + 0.587 * g+ 0.299 * r               #  0.299×R + 0.587×G + 0.114×B NTSC표준\n",
    "\n",
    "        gray_image[h, w, 0] = gray  \n",
    "\n",
    "\n",
    "cv2.imshow(\"dst\", gray_image)\n",
    "cv2.waitKey(0)\n",
    "cv2.destroyAllWindows()\n"
   ]
  },
  {
   "cell_type": "code",
   "execution_count": 25,
   "id": "6cc605c1",
   "metadata": {},
   "outputs": [],
   "source": [
    "# 히스토그램 평활화\n",
    "histogram = [0 for i in range(256)]\n",
    "\n",
    "# Gray 이미지의 히스토그램\n",
    "for h in range(height):\n",
    "    for w in range(width):\n",
    "        theV = img[h, w, 0].astype(np.int32)\n",
    "        histogram[theV]+= 1\n",
    "        \n",
    "# 누적 histogram \n",
    "accu_histogram = [0 for i in range(256)]\n",
    "accu_histogram[0] = histogram[0]\n",
    "\n",
    "for i in range(1, 256):\n",
    "    accu_histogram[i]=accu_histogram[i-1]+histogram[i]\n",
    "\n",
    "# 정규화된 누적 histogram\n",
    "sacle_factor = 256/ (width*height)\n",
    "norm_histogram = [0 for i in range(256)]\n",
    "for i in range(1, 256):\n",
    "    norm_histogram[i] = accu_histogram[i]*sacle_factor\n",
    "    \n",
    "# 이미지 변환\n",
    "histogram_image = np.zeros((height, width, 1), dtype=np.uint8)\n",
    "for h in range(height):\n",
    "    for w in range(width):\n",
    "        theV = img[h, w, 0].astype(np.int32)\n",
    "        histogram_image[h, w, 0] = norm_histogram[theV]\n",
    "        \n",
    "cv2.imshow(\"dst\", histogram_image)\n",
    "cv2.waitKey(0)\n",
    "cv2.destroyAllWindows()\n"
   ]
  },
  {
   "cell_type": "code",
   "execution_count": null,
   "id": "ec899939",
   "metadata": {},
   "outputs": [],
   "source": []
  }
 ],
 "metadata": {
  "kernelspec": {
   "display_name": "Python 3 (ipykernel)",
   "language": "python",
   "name": "python3"
  },
  "language_info": {
   "codemirror_mode": {
    "name": "ipython",
    "version": 3
   },
   "file_extension": ".py",
   "mimetype": "text/x-python",
   "name": "python",
   "nbconvert_exporter": "python",
   "pygments_lexer": "ipython3",
   "version": "3.10.4"
  }
 },
 "nbformat": 4,
 "nbformat_minor": 5
}
